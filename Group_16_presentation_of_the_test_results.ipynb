{
 "cells": [
  {
   "cell_type": "markdown",
   "id": "80ccedc3",
   "metadata": {},
   "source": [
    "# Presentation of the test results - \n",
    "In this part - 2 of our project review, we trained the following four classification models by tuning different hyperparameters- \n",
    "- Linear Classifier/SVM\n",
    "- K Nearest Neighbors\n",
    "- Random Forest\n",
    "- Decision Tree"
   ]
  },
  {
   "cell_type": "code",
   "execution_count": 8,
   "id": "6818088b",
   "metadata": {},
   "outputs": [],
   "source": [
    "# Importing all the required libraries\n",
    "\n",
    "import numpy as np\n",
    "import pandas as pd\n",
    "import matplotlib.pyplot as plt\n",
    "import seaborn as sns\n",
    "\n",
    "from sklearn.model_selection import train_test_split\n",
    "from sklearn.metrics import accuracy_score, confusion_matrix, classification_report\n",
    "from sklearn.preprocessing import StandardScaler\n",
    "from sklearn.linear_model import SGDClassifier\n",
    "from sklearn.neighbors import KNeighborsClassifier\n",
    "from sklearn.ensemble import RandomForestClassifier\n",
    "from sklearn import tree\n",
    "from sklearn.model_selection import cross_val_score, GridSearchCV, RandomizedSearchCV\n",
    "\n",
    "import warnings\n",
    "warnings.filterwarnings(\"ignore\")"
   ]
  },
  {
   "cell_type": "code",
   "execution_count": 2,
   "id": "c48ee097",
   "metadata": {},
   "outputs": [
    {
     "data": {
      "text/html": [
       "<div>\n",
       "<style scoped>\n",
       "    .dataframe tbody tr th:only-of-type {\n",
       "        vertical-align: middle;\n",
       "    }\n",
       "\n",
       "    .dataframe tbody tr th {\n",
       "        vertical-align: top;\n",
       "    }\n",
       "\n",
       "    .dataframe thead th {\n",
       "        text-align: right;\n",
       "    }\n",
       "</style>\n",
       "<table border=\"1\" class=\"dataframe\">\n",
       "  <thead>\n",
       "    <tr style=\"text-align: right;\">\n",
       "      <th></th>\n",
       "      <th>Unnamed: 0</th>\n",
       "      <th>Subject</th>\n",
       "      <th>Hold .</th>\n",
       "      <th>Hold t</th>\n",
       "      <th>Hold i</th>\n",
       "      <th>Hold e</th>\n",
       "      <th>Hold Shift</th>\n",
       "      <th>Hold 5</th>\n",
       "      <th>Hold Shift.1</th>\n",
       "      <th>Hold Caps</th>\n",
       "      <th>...</th>\n",
       "      <th>Size Caps</th>\n",
       "      <th>Size r</th>\n",
       "      <th>Size o</th>\n",
       "      <th>Size a</th>\n",
       "      <th>Size n</th>\n",
       "      <th>Size l</th>\n",
       "      <th>Size Enter</th>\n",
       "      <th>AvH</th>\n",
       "      <th>AvP</th>\n",
       "      <th>AvA</th>\n",
       "    </tr>\n",
       "  </thead>\n",
       "  <tbody>\n",
       "    <tr>\n",
       "      <th>0</th>\n",
       "      <td>0</td>\n",
       "      <td>1.0</td>\n",
       "      <td>106.0</td>\n",
       "      <td>92.0</td>\n",
       "      <td>111.0</td>\n",
       "      <td>85.0</td>\n",
       "      <td>123.0</td>\n",
       "      <td>82.0</td>\n",
       "      <td>70.0</td>\n",
       "      <td>101.00</td>\n",
       "      <td>...</td>\n",
       "      <td>0.225806</td>\n",
       "      <td>0.225806</td>\n",
       "      <td>0.322581</td>\n",
       "      <td>0.290323</td>\n",
       "      <td>0.225806</td>\n",
       "      <td>0.354839</td>\n",
       "      <td>0.274194</td>\n",
       "      <td>103.035714</td>\n",
       "      <td>0.190971</td>\n",
       "      <td>0.288018</td>\n",
       "    </tr>\n",
       "    <tr>\n",
       "      <th>1</th>\n",
       "      <td>1</td>\n",
       "      <td>1.0</td>\n",
       "      <td>106.0</td>\n",
       "      <td>88.0</td>\n",
       "      <td>111.0</td>\n",
       "      <td>83.0</td>\n",
       "      <td>123.0</td>\n",
       "      <td>101.0</td>\n",
       "      <td>81.0</td>\n",
       "      <td>94.00</td>\n",
       "      <td>...</td>\n",
       "      <td>0.225806</td>\n",
       "      <td>0.225806</td>\n",
       "      <td>0.322581</td>\n",
       "      <td>0.322581</td>\n",
       "      <td>0.258065</td>\n",
       "      <td>0.387097</td>\n",
       "      <td>0.322581</td>\n",
       "      <td>103.035714</td>\n",
       "      <td>0.186514</td>\n",
       "      <td>0.285138</td>\n",
       "    </tr>\n",
       "    <tr>\n",
       "      <th>2</th>\n",
       "      <td>2</td>\n",
       "      <td>1.0</td>\n",
       "      <td>106.0</td>\n",
       "      <td>90.0</td>\n",
       "      <td>111.0</td>\n",
       "      <td>65.0</td>\n",
       "      <td>79.0</td>\n",
       "      <td>73.0</td>\n",
       "      <td>96.0</td>\n",
       "      <td>63.25</td>\n",
       "      <td>...</td>\n",
       "      <td>0.225806</td>\n",
       "      <td>0.193548</td>\n",
       "      <td>0.290323</td>\n",
       "      <td>0.322581</td>\n",
       "      <td>0.225806</td>\n",
       "      <td>0.258065</td>\n",
       "      <td>0.274194</td>\n",
       "      <td>103.035714</td>\n",
       "      <td>0.186171</td>\n",
       "      <td>0.285138</td>\n",
       "    </tr>\n",
       "    <tr>\n",
       "      <th>3</th>\n",
       "      <td>3</td>\n",
       "      <td>1.0</td>\n",
       "      <td>106.0</td>\n",
       "      <td>81.0</td>\n",
       "      <td>111.0</td>\n",
       "      <td>72.0</td>\n",
       "      <td>83.0</td>\n",
       "      <td>94.0</td>\n",
       "      <td>89.0</td>\n",
       "      <td>104.00</td>\n",
       "      <td>...</td>\n",
       "      <td>0.225806</td>\n",
       "      <td>0.225806</td>\n",
       "      <td>0.258065</td>\n",
       "      <td>0.290323</td>\n",
       "      <td>0.225806</td>\n",
       "      <td>0.322581</td>\n",
       "      <td>0.322581</td>\n",
       "      <td>103.035714</td>\n",
       "      <td>0.177943</td>\n",
       "      <td>0.285138</td>\n",
       "    </tr>\n",
       "    <tr>\n",
       "      <th>4</th>\n",
       "      <td>4</td>\n",
       "      <td>1.0</td>\n",
       "      <td>106.0</td>\n",
       "      <td>72.0</td>\n",
       "      <td>111.0</td>\n",
       "      <td>82.0</td>\n",
       "      <td>62.0</td>\n",
       "      <td>89.0</td>\n",
       "      <td>68.0</td>\n",
       "      <td>88.00</td>\n",
       "      <td>...</td>\n",
       "      <td>0.290323</td>\n",
       "      <td>0.225806</td>\n",
       "      <td>0.322581</td>\n",
       "      <td>0.258065</td>\n",
       "      <td>0.225806</td>\n",
       "      <td>0.290323</td>\n",
       "      <td>0.387097</td>\n",
       "      <td>103.035714</td>\n",
       "      <td>0.163971</td>\n",
       "      <td>0.285138</td>\n",
       "    </tr>\n",
       "  </tbody>\n",
       "</table>\n",
       "<p>5 rows × 73 columns</p>\n",
       "</div>"
      ],
      "text/plain": [
       "   Unnamed: 0  Subject  Hold .  Hold t  Hold i  Hold e  Hold Shift  Hold 5  \\\n",
       "0           0      1.0   106.0    92.0   111.0    85.0       123.0    82.0   \n",
       "1           1      1.0   106.0    88.0   111.0    83.0       123.0   101.0   \n",
       "2           2      1.0   106.0    90.0   111.0    65.0        79.0    73.0   \n",
       "3           3      1.0   106.0    81.0   111.0    72.0        83.0    94.0   \n",
       "4           4      1.0   106.0    72.0   111.0    82.0        62.0    89.0   \n",
       "\n",
       "   Hold Shift.1  Hold Caps  ...  Size Caps    Size r    Size o    Size a  \\\n",
       "0          70.0     101.00  ...   0.225806  0.225806  0.322581  0.290323   \n",
       "1          81.0      94.00  ...   0.225806  0.225806  0.322581  0.322581   \n",
       "2          96.0      63.25  ...   0.225806  0.193548  0.290323  0.322581   \n",
       "3          89.0     104.00  ...   0.225806  0.225806  0.258065  0.290323   \n",
       "4          68.0      88.00  ...   0.290323  0.225806  0.322581  0.258065   \n",
       "\n",
       "     Size n    Size l  Size Enter         AvH       AvP       AvA  \n",
       "0  0.225806  0.354839    0.274194  103.035714  0.190971  0.288018  \n",
       "1  0.258065  0.387097    0.322581  103.035714  0.186514  0.285138  \n",
       "2  0.225806  0.258065    0.274194  103.035714  0.186171  0.285138  \n",
       "3  0.225806  0.322581    0.322581  103.035714  0.177943  0.285138  \n",
       "4  0.225806  0.290323    0.387097  103.035714  0.163971  0.285138  \n",
       "\n",
       "[5 rows x 73 columns]"
      ]
     },
     "execution_count": 2,
     "metadata": {},
     "output_type": "execute_result"
    }
   ],
   "source": [
    "# loading the cleaned dataset\n",
    "\n",
    "group_16_df = pd.read_csv('Group_16_data_cleaned.csv')\n",
    "group_16_df.head()"
   ]
  },
  {
   "cell_type": "code",
   "execution_count": 3,
   "id": "7aad4e67",
   "metadata": {},
   "outputs": [
    {
     "data": {
      "text/plain": [
       "((2856, 71), (2856,))"
      ]
     },
     "execution_count": 3,
     "metadata": {},
     "output_type": "execute_result"
    }
   ],
   "source": [
    "# extracting and assigning the input and output variables from the dataset\n",
    "\n",
    "x, y = group_16_df.iloc[:, 2:].values, group_16_df['Subject'].values\n",
    "x.shape, y.shape"
   ]
  },
  {
   "cell_type": "code",
   "execution_count": 4,
   "id": "11badc3a",
   "metadata": {},
   "outputs": [
    {
     "name": "stdout",
     "output_type": "stream",
     "text": [
      "(1999, 71) (1999,)\n",
      "(857, 71) (857,)\n"
     ]
    }
   ],
   "source": [
    "# splitting the imported dataset as train(70%) and test(30%) sets.\n",
    "\n",
    "x_train, x_test, y_train, y_test = train_test_split(x, y, test_size = 0.3, random_state = 222)\n",
    "print(x_train.shape, y_train.shape)\n",
    "print(x_test.shape, y_test.shape)"
   ]
  },
  {
   "cell_type": "code",
   "execution_count": 5,
   "id": "59e04102",
   "metadata": {},
   "outputs": [],
   "source": [
    "# Standard scaler is used to scale all the features to have equal weightage\n",
    "\n",
    "scaler = StandardScaler()\n",
    "x_train = scaler.fit_transform(x_train)\n",
    "x_test = scaler.fit_transform(x_test)"
   ]
  },
  {
   "cell_type": "markdown",
   "id": "c9e163cd",
   "metadata": {},
   "source": [
    "First we implemented a Naive Classifier model. There are different ways to implement this, like - Random Prediction Algorithm, Zero Rule Algorithm. We've chosen Random Prediction Algorithm which is as follows."
   ]
  },
  {
   "cell_type": "code",
   "execution_count": 6,
   "id": "fcbe357a",
   "metadata": {},
   "outputs": [
    {
     "name": "stdout",
     "output_type": "stream",
     "text": [
      "0.019836639439906652\n"
     ]
    }
   ],
   "source": [
    "# Naive/Baseline classifier implementation:\n",
    "from random import randrange\n",
    "\n",
    "# Generating random predictions out of y.\n",
    "unique = list(set(y_train))\n",
    "y_pred = []\n",
    "for _ in y_test:\n",
    "    index = randrange(len(unique))\n",
    "    y_pred.append(unique[index])\n",
    "print(accuracy_score(y_pred, y_test))"
   ]
  },
  {
   "cell_type": "markdown",
   "id": "ca5f111d",
   "metadata": {},
   "source": [
    "#### This low accuracy is obvious considering the facts that our dataset is well balanced and has 56 classes in total."
   ]
  },
  {
   "cell_type": "markdown",
   "id": "41ac5b34",
   "metadata": {},
   "source": [
    "### Comparision of accuracy scores of the four models on the test data. "
   ]
  },
  {
   "cell_type": "code",
   "execution_count": 7,
   "id": "febeae70",
   "metadata": {},
   "outputs": [
    {
     "data": {
      "image/png": "[encoded data removed]",
      "text/plain": [
       "<Figure size 640x480 with 1 Axes>"
      ]
     },
     "metadata": {},
     "output_type": "display_data"
    }
   ],
   "source": [
    "lin_clf = SGDClassifier(loss = 'hinge', max_iter = 100, penalty = 'l2', random_state = 222)\n",
    "KNN = KNeighborsClassifier(algorithm = 'auto', n_neighbors = 9, p = 1)\n",
    "RF = RandomForestClassifier(random_state = 222, n_estimators = 290, max_depth = 60)\n",
    "DT = tree.DecisionTreeClassifier(random_state = 222, min_samples_split = 4, max_depth = 23, criterion = 'gini')\n",
    "\n",
    "clf_list = [lin_clf, KNN, RF, DT]\n",
    "ax = ['Linear', 'KNN', 'Random Forest', 'Decision Tree']\n",
    "ay = []\n",
    "for clf in clf_list:\n",
    "    clf.fit(x_train, y_train)\n",
    "    pred_test = clf.predict(x_test)\n",
    "    test_acc = accuracy_score(pred_test, y_test)\n",
    "    ay.append(round(test_acc*100, 2))\n",
    "    \n",
    "plt.barh(ax, ay, color ='g', height = 0.3)\n",
    "for index, value in enumerate(ay):\n",
    "    plt.text(value, index, str(value))\n",
    "plt.xlabel('Test Accuracy')\n",
    "plt.ylabel('Classifier Models')\n",
    "plt.show()"
   ]
  }
 ],
 "metadata": {
  "kernelspec": {
   "display_name": "Python 3 (ipykernel)",
   "language": "python",
   "name": "python3"
  },
  "language_info": {
   "codemirror_mode": {
    "name": "ipython",
    "version": 3
   },
   "file_extension": ".py",
   "mimetype": "text/x-python",
   "name": "python",
   "nbconvert_exporter": "python",
   "pygments_lexer": "ipython3",
   "version": "3.9.13"
  }
 },
 "nbformat": 4,
 "nbformat_minor": 5
}
